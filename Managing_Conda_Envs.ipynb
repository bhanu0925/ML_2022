{
  "nbformat": 4,
  "nbformat_minor": 0,
  "metadata": {
    "colab": {
      "name": "Managing Conda Envs.ipynb",
      "provenance": [],
      "authorship_tag": "ABX9TyMUrq+7BvBZew2/hljtG6HQ",
      "include_colab_link": true
    },
    "kernelspec": {
      "name": "python3",
      "display_name": "Python 3"
    },
    "language_info": {
      "name": "python"
    }
  },
  "cells": [
    {
      "cell_type": "markdown",
      "metadata": {
        "id": "view-in-github",
        "colab_type": "text"
      },
      "source": [
        "<a href=\"https://colab.research.google.com/github/bhanu0925/ML_2022/blob/main/Managing_Conda_Envs.ipynb\" target=\"_parent\"><img src=\"https://colab.research.google.com/assets/colab-badge.svg\" alt=\"Open In Colab\"/></a>"
      ]
    },
    {
      "cell_type": "markdown",
      "source": [
        "## **Managing conda Environments**\n",
        "\n",
        "1. Create a new conda virtual environment\n",
        "2. activate the new env\n",
        "3. using pip and conda packages manager\n",
        "4. install packages\n",
        "5. Removing packages\n",
        "6. exporting environments to your team members\n",
        "7. Removing an environment\n",
        "\n",
        "Refer https://docs.conda.io/projects/conda/en/latest/user-guide/tasks/manage-environments.html\n",
        "\n",
        "### **1. Determine conda environemnt**\n",
        "    conda env list\n",
        "\n",
        "### **2. Create new env**\n",
        "    conda create -n <envname> python=<version>\n",
        "\n",
        "### **3. Activate conda env**\n",
        "    conda activate <envname>\n",
        "    conda list (shows the defauls packages that are installed)\n",
        "    pip list\n",
        "\n",
        "### **4. Install package using pip**\n",
        "    pip install pandas numpy matplotlib\n",
        "  \n",
        "### **5. Install packages using conda**\n",
        "    conda install pandas numpy matplotlib\n",
        "\n",
        "### **6. Uninstall packages**\n",
        "    conda remove matplotlib -y\n",
        "\n",
        "### **7. Create a file**\n",
        "    touch packages.txt\n",
        "    vi packages.txt\n",
        "    //mention packages that you want to install\n",
        "    matplotlib\n",
        "    numpy\n",
        "    pandas\n",
        "    wq: // exit file\n",
        "\n",
        "    pip install -r packages.txt\n",
        "\n",
        "### **8. Create requirement.txt**\n",
        "    pip freeze > requirment.txt\n",
        "    cat requirement.txt  // cat shows content of a file\n",
        "\n",
        "### **9. Installing from requirement.txt**\n",
        "    pip install -r requirement.txt\n",
        "\n",
        "### **10. Removing environemnt**\n",
        "    conda remove --name <env> --all\n",
        "\n",
        "### **11. Sharing enviroment with other team members.**\n",
        "    conda env export > environment.yml // share .yml file with team members\n",
        "\n",
        "### **12. Creating new environment using .yml file**\n",
        "    conda env create -f environment.yml\n",
        "\n",
        "\n",
        "\n",
        "\n",
        "\n",
        "\n",
        "\n",
        "\n",
        "\n"
      ],
      "metadata": {
        "id": "ar89GK_LLC7i"
      }
    },
    {
      "cell_type": "code",
      "source": [
        ""
      ],
      "metadata": {
        "id": "P-UMMs8lQjvB"
      },
      "execution_count": null,
      "outputs": []
    }
  ]
}